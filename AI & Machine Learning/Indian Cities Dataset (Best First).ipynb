{
 "cells": [
  {
   "cell_type": "code",
   "execution_count": 2,
   "id": "afac4ddb-e3a3-4375-8c92-da96cba623f7",
   "metadata": {},
   "outputs": [],
   "source": [
    "import numpy as np\n",
    "import pandas as pd\n",
    "import networkx as nx\n",
    "import math\n",
    "import queue"
   ]
  },
  {
   "cell_type": "markdown",
   "id": "d009d2e0-a3fb-4662-a095-e4ad628a9254",
   "metadata": {},
   "source": [
    "## Question 01"
   ]
  },
  {
   "cell_type": "code",
   "execution_count": 3,
   "id": "00804cfc-3eda-4c41-b27c-010f71eae798",
   "metadata": {},
   "outputs": [],
   "source": [
    "def best_first_search(maze, start, goal):\n",
    "    rows, cols = len(maze), len(maze[0])\n",
    "    priority_queue = queue.PriorityQueue()\n",
    "    priority_queue.put((heuristic(start, goal), start))\n",
    "    visited = set()\n",
    "    parent = {start: None}\n",
    "    \n",
    "    directions = [(-1, 0), (1, 0), (0, -1), (0, 1)]  # Up, Down, Left, Right\n",
    "\n",
    "    while not priority_queue.empty():\n",
    "        heuristic_value, current = priority_queue.get()\n",
    "        \n",
    "        if current in visited:\n",
    "            continue\n",
    "        \n",
    "        visited.add(current)\n",
    "\n",
    "        if current == goal:\n",
    "            # Reconstruct path\n",
    "            path = []\n",
    "            while current:\n",
    "                path.append(current)\n",
    "                current = parent[current]\n",
    "            return path[::-1]\n",
    "\n",
    "        for d in directions:\n",
    "            nr, nc = current[0] + d[0], current[1] + d[1]\n",
    "            neighbor = (nr, nc)\n",
    "            if (0 <= nr < rows and 0 <= nc < cols and \n",
    "                maze[nr][nc] == 0 and neighbor not in visited):\n",
    "                priority_queue.put((heuristic(neighbor, goal), neighbor))\n",
    "                if neighbor not in parent:\n",
    "                    parent[neighbor] = current\n",
    "\n",
    "    return []"
   ]
  },
  {
   "cell_type": "code",
   "execution_count": 4,
   "id": "ee358c11-d1dc-43f2-b50d-bc67e66767d5",
   "metadata": {},
   "outputs": [],
   "source": [
    "def heuristic(a, b):\n",
    "    # a and b are (x, y) tuples\n",
    "    return math.sqrt((a[0] - b[0])**2 + (a[1] - b[1])**2)"
   ]
  },
  {
   "cell_type": "code",
   "execution_count": 5,
   "id": "6187b50d-3687-4650-9e54-52a2dedeea6c",
   "metadata": {},
   "outputs": [
    {
     "name": "stdout",
     "output_type": "stream",
     "text": [
      "Path: [(0, 0), (1, 0), (2, 0), (3, 0), (4, 0), (4, 1), (4, 2), (4, 3), (4, 4)]\n"
     ]
    }
   ],
   "source": [
    "maze = [[0,1,0,0,0],\n",
    "        [0,1,0,1,0],\n",
    "        [0,0,0,1,0],\n",
    "        [0,1,1,0,0],\n",
    "        [0,0,0,0,0]\n",
    "       ]\n",
    "start = (0,0)\n",
    "goal = (4,4)\n",
    "path = best_first_search(maze, start, goal)\n",
    "print(\"Path:\",path)"
   ]
  },
  {
   "cell_type": "markdown",
   "id": "d2e2a9f5-7acc-4bb6-b2e9-e575a2c7af1f",
   "metadata": {},
   "source": [
    "## Question 02"
   ]
  },
  {
   "cell_type": "code",
   "execution_count": 6,
   "id": "cf2bb408-7618-4611-a1f6-da1bbde3fb3b",
   "metadata": {},
   "outputs": [],
   "source": [
    "cities = pd.read_csv(r\"C:\\Users\\hp\\Downloads\\indian-cities-dataset (1).csv\")"
   ]
  },
  {
   "cell_type": "code",
   "execution_count": 7,
   "id": "834e1552-9b64-4bc9-bf9c-e1964e03f486",
   "metadata": {},
   "outputs": [],
   "source": [
    "def euclidean_distance(node1, node2, pos):\n",
    "    x1, y1 = pos[node1]\n",
    "    x2, y2 = pos[node2]\n",
    "    return math.sqrt((x2 - x1)**2 + (y2 - y1)**2)"
   ]
  },
  {
   "cell_type": "code",
   "execution_count": 8,
   "id": "43bca2f4-29be-4ffa-8a87-8390ff61379f",
   "metadata": {},
   "outputs": [],
   "source": [
    "def aStar(graph, start, goal, heuristic):\n",
    "    visited = set()\n",
    "    pri_queue = queue.PriorityQueue()  # Priority queue\n",
    "    pri_queue.put((0 + heuristic[start], [start]))  # Initial state: f = g + h = 0 + heuristic\n",
    "\n",
    "    while not pri_queue.empty():\n",
    "        f, current_path = pri_queue.get()\n",
    "        current_node = current_path[-1]\n",
    "\n",
    "        if current_node == goal:\n",
    "            return current_path  # Goal found\n",
    "\n",
    "        visited.add(current_node)\n",
    "\n",
    "        for neighbor in graph.neighbors(current_node):\n",
    "            if neighbor not in visited:\n",
    "                g = graph[current_node][neighbor]['weight']  # Cost from start to current node\n",
    "                new_path = current_path + [neighbor]\n",
    "                pri_queue.put((g + heuristic[neighbor], new_path))\n",
    "\n",
    "    return []"
   ]
  },
  {
   "cell_type": "code",
   "execution_count": 9,
   "id": "d0f375f5-dec9-4341-aa54-7ec649ec3941",
   "metadata": {},
   "outputs": [
    {
     "name": "stdout",
     "output_type": "stream",
     "text": [
      "Enter origin city: \n"
     ]
    },
    {
     "name": "stdin",
     "output_type": "stream",
     "text": [
      "None Agra\n"
     ]
    },
    {
     "name": "stdout",
     "output_type": "stream",
     "text": [
      "Enter destination city: \n"
     ]
    },
    {
     "name": "stdin",
     "output_type": "stream",
     "text": [
      "None Kochi\n"
     ]
    }
   ],
   "source": [
    "city1 = input(print(\"Enter origin city: \"))\n",
    "city2 = input(print(\"Enter destination city: \"))"
   ]
  },
  {
   "cell_type": "code",
   "execution_count": 10,
   "id": "112854c4-7ca6-451e-94dd-a2eb2d0db520",
   "metadata": {},
   "outputs": [
    {
     "name": "stdout",
     "output_type": "stream",
     "text": [
      "Path from Agra to Kochi found: Agra -> Delhi -> Jaipur -> Udaipur -> Ahmedabad -> Mumbai -> Pune -> Goa -> Bengaluru -> Kochi\n"
     ]
    }
   ],
   "source": [
    "start_node = city1\n",
    "goal_node = city2\n",
    "\n",
    "G = nx.Graph()\n",
    "G.add_weighted_edges_from(zip(cities[\"Origin\"],cities[\"Destination\"],cities[\"Distance\"]))\n",
    "pos = nx.spring_layout(G)\n",
    "\n",
    "# Heuristic function using Euclidean distance\n",
    "heuristic = {node: euclidean_distance(node, goal_node, pos) for node in G.nodes}\n",
    "\n",
    "path = aStar(G, start_node, goal_node, heuristic)\n",
    "if path:\n",
    "    print(\"Path from {} to {} found: {}\".format(start_node, goal_node, ' -> '.join(path)))\n",
    "else:\n",
    "    print(\"No path found from {} to {}\".format(start_node, goal_node))"
   ]
  }
 ],
 "metadata": {
  "kernelspec": {
   "display_name": "Python 3 (ipykernel)",
   "language": "python",
   "name": "python3"
  },
  "language_info": {
   "codemirror_mode": {
    "name": "ipython",
    "version": 3
   },
   "file_extension": ".py",
   "mimetype": "text/x-python",
   "name": "python",
   "nbconvert_exporter": "python",
   "pygments_lexer": "ipython3",
   "version": "3.12.2"
  }
 },
 "nbformat": 4,
 "nbformat_minor": 5
}
