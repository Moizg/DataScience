{
 "cells": [
  {
   "cell_type": "markdown",
   "id": "7951ccf2-46b9-4fa6-9e06-06d1f0efc764",
   "metadata": {},
   "source": [
    "# Simple AI Agents"
   ]
  },
  {
   "cell_type": "markdown",
   "id": "d7d89922-5d42-4d0c-bd96-c266624a0cec",
   "metadata": {},
   "source": [
    "## Agent 01"
   ]
  },
  {
   "cell_type": "code",
   "execution_count": 53,
   "id": "7a8be165-3f08-41c5-ae44-7a77f36e613c",
   "metadata": {},
   "outputs": [],
   "source": [
    "percepts = ['smoke', 'temperature', 'normal']\n",
    "states = ['smoke detected', 'high temp detected', 'normal']\n",
    "rules = ['sound alarm and activate sprinkler', 'sound the alarm and call the fire dep', 'keep alarm off and sprinkler deactivated']"
   ]
  },
  {
   "cell_type": "code",
   "execution_count": 54,
   "id": "e7bfaf82-bb17-4501-a264-4d08c6088107",
   "metadata": {},
   "outputs": [],
   "source": [
    "def getState(percept_value):\n",
    "    index = -1\n",
    "    for percept in percepts:\n",
    "        index = index + 1\n",
    "        if percept == percept_value:\n",
    "            return states[index]"
   ]
  },
  {
   "cell_type": "code",
   "execution_count": 55,
   "id": "178532d7-a51a-4abe-ae7f-82c32eae0a19",
   "metadata": {},
   "outputs": [],
   "source": [
    "def getRules(state_value):\n",
    "    index = -1\n",
    "    for state in states:\n",
    "        index = index + 1\n",
    "        if state == state_value:\n",
    "            return rules[index]"
   ]
  },
  {
   "cell_type": "code",
   "execution_count": 56,
   "id": "c66bc283-2871-47c1-afda-b124089f34e5",
   "metadata": {},
   "outputs": [],
   "source": [
    "def simpleReflexAgent(percepts):\n",
    "    return getRules(getState(percepts))"
   ]
  },
  {
   "cell_type": "code",
   "execution_count": 57,
   "id": "f2a5aa18-3ac8-4927-8e49-49b1d4d9c3d5",
   "metadata": {},
   "outputs": [],
   "source": [
    "time_frame = 0"
   ]
  },
  {
   "cell_type": "code",
   "execution_count": 58,
   "id": "d6be63a5-a68b-4268-b068-5a3a661bc761",
   "metadata": {},
   "outputs": [
    {
     "name": "stdin",
     "output_type": "stream",
     "text": [
      "What do you see in the building? smoke\n"
     ]
    },
    {
     "name": "stdout",
     "output_type": "stream",
     "text": [
      "sound alarm and activate sprinkler\n"
     ]
    },
    {
     "name": "stdin",
     "output_type": "stream",
     "text": [
      "What do you see in the building? temperature\n"
     ]
    },
    {
     "name": "stdout",
     "output_type": "stream",
     "text": [
      "sound the alarm and call the fire dep\n"
     ]
    },
    {
     "name": "stdin",
     "output_type": "stream",
     "text": [
      "What do you see in the building? exit\n"
     ]
    }
   ],
   "source": [
    "while time_frame < 10:\n",
    "    visual_input = input(\"What do you see in the building?\")\n",
    "    if visual_input == 'exit':\n",
    "        break\n",
    "    rule = simpleReflexAgent(visual_input)\n",
    "    print(rule)\n",
    "    time_frame += 1"
   ]
  },
  {
   "cell_type": "markdown",
   "id": "2b4b7785-2a72-4251-b561-df027ea016f5",
   "metadata": {},
   "source": [
    "## Agent 02"
   ]
  },
  {
   "cell_type": "code",
   "execution_count": 2,
   "id": "dce82ec8-0b1b-4f52-9d41-6e3570824736",
   "metadata": {},
   "outputs": [],
   "source": [
    "import logging\n",
    "\n",
    "logging.basicConfig(level=logging.INFO, format='%(asctime)s - %(levelname)s - %(message)s')\n",
    "\n",
    "class AutomaticWateringSystem:\n",
    "    def __init__(self, dry_threshold=30, moist_threshold=60):\n",
    "        \"\"\"\n",
    "        Initializes the system with threshold values.\n",
    "        :param dry_threshold: Moisture level below this value is considered 'Dry'.\n",
    "        :param moist_threshold: Moisture level below this value but above dry_threshold is considered 'Moist'.\n",
    "        \"\"\"\n",
    "        self.dry_threshold = dry_threshold\n",
    "        self.moist_threshold = moist_threshold\n",
    "    \n",
    "    def get_state(self, moisture_level):\n",
    "        try:\n",
    "            moisture_level = float(moisture_level)\n",
    "            if moisture_level < self.dry_threshold:\n",
    "                return \"Dry Soil\"\n",
    "            elif moisture_level < self.moist_threshold:\n",
    "                return \"Moist Soil\"\n",
    "            else:\n",
    "                return \"Wet Soil\"\n",
    "        except ValueError:\n",
    "            logging.error(\"Invalid moisture level input. Please provide a numeric value.\")\n",
    "            return None\n",
    "\n",
    "    def get_action(self, state):\n",
    "        rules = {\n",
    "            \"Dry Soil\": \"Activate watering system\",\n",
    "            \"Moist Soil\": \"Keep watering system off\",\n",
    "            \"Wet Soil\": \"Deactivate watering system\"\n",
    "        }\n",
    "        return rules.get(state, \"Invalid state\")\n",
    "\n",
    "    def control_system(self, moisture_level):\n",
    "        state = self.get_state(moisture_level)\n",
    "        if state:\n",
    "            action = self.get_action(state)\n",
    "            logging.info(f\"Moisture Level: {moisture_level} - State: {state} - Action: {action}\")\n",
    "            return action\n",
    "        return \"Error in processing moisture level\""
   ]
  },
  {
   "cell_type": "code",
   "execution_count": 4,
   "id": "584ddaf4-0706-4ce3-9224-1f56b791cde8",
   "metadata": {},
   "outputs": [
    {
     "name": "stdin",
     "output_type": "stream",
     "text": [
      "Enter the moisture level (or type 'exit' to quit):  50\n"
     ]
    },
    {
     "name": "stderr",
     "output_type": "stream",
     "text": [
      "2025-02-13 19:34:47,553 - INFO - Moisture Level: 50 - State: Moist Soil - Action: Keep watering system off\n"
     ]
    },
    {
     "name": "stdout",
     "output_type": "stream",
     "text": [
      "Keep watering system off\n"
     ]
    },
    {
     "name": "stdin",
     "output_type": "stream",
     "text": [
      "Enter the moisture level (or type 'exit' to quit):  10\n"
     ]
    },
    {
     "name": "stderr",
     "output_type": "stream",
     "text": [
      "2025-02-13 19:34:54,860 - INFO - Moisture Level: 10 - State: Dry Soil - Action: Activate watering system\n"
     ]
    },
    {
     "name": "stdout",
     "output_type": "stream",
     "text": [
      "Activate watering system\n"
     ]
    },
    {
     "name": "stdin",
     "output_type": "stream",
     "text": [
      "Enter the moisture level (or type 'exit' to quit):  75\n"
     ]
    },
    {
     "name": "stderr",
     "output_type": "stream",
     "text": [
      "2025-02-13 19:35:01,066 - INFO - Moisture Level: 75 - State: Wet Soil - Action: Deactivate watering system\n"
     ]
    },
    {
     "name": "stdout",
     "output_type": "stream",
     "text": [
      "Deactivate watering system\n"
     ]
    },
    {
     "name": "stdin",
     "output_type": "stream",
     "text": [
      "Enter the moisture level (or type 'exit' to quit):  exit\n"
     ]
    }
   ],
   "source": [
    "system = AutomaticWateringSystem(dry_threshold=30, moist_threshold=60)\n",
    "    \n",
    "while True:\n",
    "        moisture_input = input(\"Enter the moisture level (or type 'exit' to quit): \")\n",
    "        if moisture_input.lower() == 'exit':\n",
    "            break\n",
    "        result = system.control_system(moisture_input)\n",
    "        print(result)"
   ]
  }
 ],
 "metadata": {
  "kernelspec": {
   "display_name": "Python 3 (ipykernel)",
   "language": "python",
   "name": "python3"
  },
  "language_info": {
   "codemirror_mode": {
    "name": "ipython",
    "version": 3
   },
   "file_extension": ".py",
   "mimetype": "text/x-python",
   "name": "python",
   "nbconvert_exporter": "python",
   "pygments_lexer": "ipython3",
   "version": "3.12.2"
  }
 },
 "nbformat": 4,
 "nbformat_minor": 5
}
