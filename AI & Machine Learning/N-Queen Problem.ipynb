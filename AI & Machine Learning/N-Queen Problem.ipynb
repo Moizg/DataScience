{
 "cells": [
  {
   "cell_type": "code",
   "execution_count": 5,
   "id": "e2b98a3c-06f1-4a55-873c-3ba1428f9ca5",
   "metadata": {},
   "outputs": [],
   "source": [
    "import random\n",
    "import numpy as np"
   ]
  },
  {
   "cell_type": "code",
   "execution_count": 11,
   "id": "9c44657d-acab-4420-9074-dfcdd92860dd",
   "metadata": {},
   "outputs": [],
   "source": [
    "arr = np.zeros((8,8))"
   ]
  },
  {
   "cell_type": "code",
   "execution_count": 12,
   "id": "6f60d181-136a-466e-8286-e75bb57d7cda",
   "metadata": {},
   "outputs": [
    {
     "data": {
      "text/plain": [
       "array([[0., 0., 0., 0., 0., 0., 0., 0.],\n",
       "       [0., 0., 0., 0., 0., 0., 0., 0.],\n",
       "       [0., 0., 0., 0., 0., 0., 0., 0.],\n",
       "       [0., 0., 0., 0., 0., 0., 0., 0.],\n",
       "       [0., 0., 0., 0., 0., 0., 0., 0.],\n",
       "       [0., 0., 0., 0., 0., 0., 0., 0.],\n",
       "       [0., 0., 0., 0., 0., 0., 0., 0.],\n",
       "       [0., 0., 0., 0., 0., 0., 0., 0.]])"
      ]
     },
     "execution_count": 12,
     "metadata": {},
     "output_type": "execute_result"
    }
   ],
   "source": [
    "arr"
   ]
  },
  {
   "cell_type": "code",
   "execution_count": 16,
   "id": "083380c7-d9d5-44ba-a334-f6e6f7da1a91",
   "metadata": {},
   "outputs": [],
   "source": [
    "def placeQueen(arr):\n",
    "    rows = random.randint(0, 7)\n",
    "    cols = random.randint(0, 7)\n",
    "    arr[rows][cols] = 1"
   ]
  },
  {
   "cell_type": "code",
   "execution_count": 19,
   "id": "8707f465-32b7-4a83-853f-9209b31cebdc",
   "metadata": {},
   "outputs": [
    {
     "name": "stdout",
     "output_type": "stream",
     "text": [
      "[[0. 0. 0. 0. 0. 0. 0. 0.]\n",
      " [0. 0. 0. 0. 0. 0. 0. 0.]\n",
      " [0. 0. 0. 0. 0. 0. 0. 0.]\n",
      " [0. 0. 0. 0. 0. 0. 0. 0.]\n",
      " [0. 0. 0. 0. 0. 1. 0. 0.]\n",
      " [0. 0. 0. 0. 0. 0. 0. 0.]\n",
      " [0. 0. 0. 0. 0. 0. 0. 0.]\n",
      " [0. 0. 0. 0. 0. 0. 0. 0.]]\n"
     ]
    }
   ],
   "source": [
    "placeQueen(arr)\n",
    "print(arr)"
   ]
  },
  {
   "cell_type": "code",
   "execution_count": 21,
   "id": "7d1aa580-9bb3-4338-9ec4-2e23eb83bdd4",
   "metadata": {},
   "outputs": [],
   "source": [
    "def checkConflict(arr):\n",
    "    queens = []\n",
    "    for i in range(0,7):\n",
    "        for j in range(0,7):\n",
    "            if arr[i][j] == 1:\n",
    "               queens.append((i,j))\n",
    "    \n",
    "    conflicts = 0\n",
    "    \n",
    "    for i in range(len(queens)):\n",
    "        for j in range(i+1, len(queens)):\n",
    "            queen1_row, queen1_col = queens[i]\n",
    "            queen2_row, queen2_col = queens[j]\n",
    "            \n",
    "            if queen1_row == queen2_row:\n",
    "                conflicts += 1\n",
    "            \n",
    "            elif queen1_col == queen2_col:\n",
    "                conflicts += 1\n",
    "            \n",
    "            elif abs(queen1_row - queen2_row) == abs(queen1_col - queen2_col):\n",
    "                conflicts += 1\n",
    "\n",
    "    return conflicts"
   ]
  }
 ],
 "metadata": {
  "kernelspec": {
   "display_name": "Python 3 (ipykernel)",
   "language": "python",
   "name": "python3"
  },
  "language_info": {
   "codemirror_mode": {
    "name": "ipython",
    "version": 3
   },
   "file_extension": ".py",
   "mimetype": "text/x-python",
   "name": "python",
   "nbconvert_exporter": "python",
   "pygments_lexer": "ipython3",
   "version": "3.12.2"
  }
 },
 "nbformat": 4,
 "nbformat_minor": 5
}
