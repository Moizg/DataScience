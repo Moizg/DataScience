{
 "cells": [
  {
   "cell_type": "code",
   "execution_count": 36,
   "id": "21389620-c65a-48fa-89e0-582fb336d732",
   "metadata": {},
   "outputs": [],
   "source": [
    "import pandas as pd\n",
    "import numpy as np\n",
    "import matplotlib.pyplot as plt\n",
    "import seaborn as sns\n",
    "from sklearn.preprocessing import StandardScaler\n",
    "from sklearn.model_selection import train_test_split\n",
    "from sklearn.metrics import classification_report, accuracy_score\n",
    "from sklearn.neighbors import KNeighborsRegressor"
   ]
  },
  {
   "cell_type": "code",
   "execution_count": 3,
   "id": "9a59fd0a-6be9-420d-86f2-bc68238ef13c",
   "metadata": {},
   "outputs": [],
   "source": [
    "emails = pd.read_csv(r\"C:\\Users\\hp\\Downloads\\email_phishing_data.csv\",low_memory=False)"
   ]
  },
  {
   "cell_type": "code",
   "execution_count": 10,
   "id": "467d1248-e958-4797-a31a-bd65605b10c4",
   "metadata": {},
   "outputs": [
    {
     "name": "stdout",
     "output_type": "stream",
     "text": [
      "<class 'pandas.core.frame.DataFrame'>\n",
      "RangeIndex: 524846 entries, 0 to 524845\n",
      "Data columns (total 9 columns):\n",
      " #   Column               Non-Null Count   Dtype  \n",
      "---  ------               --------------   -----  \n",
      " 0   num_words            524845 non-null  float64\n",
      " 1   num_unique_words     524845 non-null  object \n",
      " 2   num_stopwords        524842 non-null  float64\n",
      " 3   num_links            524841 non-null  object \n",
      " 4   num_unique_domains   524840 non-null  object \n",
      " 5   num_email_addresses  524844 non-null  object \n",
      " 6   num_spelling_errors  524846 non-null  int64  \n",
      " 7   num_urgent_keywords  524844 non-null  float64\n",
      " 8   label                524846 non-null  int64  \n",
      "dtypes: float64(3), int64(2), object(4)\n",
      "memory usage: 36.0+ MB\n"
     ]
    },
    {
     "data": {
      "text/plain": [
       "num_words              1\n",
       "num_unique_words       1\n",
       "num_stopwords          4\n",
       "num_links              5\n",
       "num_unique_domains     6\n",
       "num_email_addresses    2\n",
       "num_spelling_errors    0\n",
       "num_urgent_keywords    2\n",
       "label                  0\n",
       "dtype: int64"
      ]
     },
     "execution_count": 10,
     "metadata": {},
     "output_type": "execute_result"
    }
   ],
   "source": [
    "emails.info()"
   ]
  },
  {
   "cell_type": "code",
   "execution_count": 17,
   "id": "273c1eab-afdd-4ed2-bc2d-e43bc3d78fee",
   "metadata": {},
   "outputs": [],
   "source": [
    "col_to_convert = ['num_unique_words','num_links','num_unique_domains','num_email_addresses']\n",
    "emails[col_to_convert] = emails[col_to_convert].apply(pd.to_numeric, errors = 'coerce')"
   ]
  },
  {
   "cell_type": "code",
   "execution_count": 18,
   "id": "15a6b329-f66d-4051-a07e-dd7fbdd846c7",
   "metadata": {},
   "outputs": [
    {
     "name": "stdout",
     "output_type": "stream",
     "text": [
      "<class 'pandas.core.frame.DataFrame'>\n",
      "RangeIndex: 524846 entries, 0 to 524845\n",
      "Data columns (total 9 columns):\n",
      " #   Column               Non-Null Count   Dtype  \n",
      "---  ------               --------------   -----  \n",
      " 0   num_words            524845 non-null  float64\n",
      " 1   num_unique_words     524844 non-null  float64\n",
      " 2   num_stopwords        524842 non-null  float64\n",
      " 3   num_links            524837 non-null  float64\n",
      " 4   num_unique_domains   524836 non-null  float64\n",
      " 5   num_email_addresses  524843 non-null  float64\n",
      " 6   num_spelling_errors  524846 non-null  int64  \n",
      " 7   num_urgent_keywords  524844 non-null  float64\n",
      " 8   label                524846 non-null  int64  \n",
      "dtypes: float64(7), int64(2)\n",
      "memory usage: 36.0 MB\n"
     ]
    }
   ],
   "source": [
    "emails.info()"
   ]
  },
  {
   "cell_type": "code",
   "execution_count": 28,
   "id": "0935f99d-a368-4e00-b93b-1166efac8719",
   "metadata": {},
   "outputs": [
    {
     "data": {
      "text/html": [
       "<div>\n",
       "<style scoped>\n",
       "    .dataframe tbody tr th:only-of-type {\n",
       "        vertical-align: middle;\n",
       "    }\n",
       "\n",
       "    .dataframe tbody tr th {\n",
       "        vertical-align: top;\n",
       "    }\n",
       "\n",
       "    .dataframe thead th {\n",
       "        text-align: right;\n",
       "    }\n",
       "</style>\n",
       "<table border=\"1\" class=\"dataframe\">\n",
       "  <thead>\n",
       "    <tr style=\"text-align: right;\">\n",
       "      <th></th>\n",
       "      <th>num_words</th>\n",
       "      <th>num_unique_words</th>\n",
       "      <th>num_stopwords</th>\n",
       "      <th>num_links</th>\n",
       "      <th>num_unique_domains</th>\n",
       "      <th>num_email_addresses</th>\n",
       "      <th>num_spelling_errors</th>\n",
       "      <th>num_urgent_keywords</th>\n",
       "      <th>label</th>\n",
       "    </tr>\n",
       "  </thead>\n",
       "  <tbody>\n",
       "    <tr>\n",
       "      <th>count</th>\n",
       "      <td>5.248450e+05</td>\n",
       "      <td>5.248440e+05</td>\n",
       "      <td>5.248420e+05</td>\n",
       "      <td>5.248370e+05</td>\n",
       "      <td>5.248360e+05</td>\n",
       "      <td>5.248430e+05</td>\n",
       "      <td>5.248460e+05</td>\n",
       "      <td>5.248440e+05</td>\n",
       "      <td>5.248460e+05</td>\n",
       "    </tr>\n",
       "    <tr>\n",
       "      <th>mean</th>\n",
       "      <td>4.315284e-20</td>\n",
       "      <td>2.516069e-17</td>\n",
       "      <td>6.766572e-18</td>\n",
       "      <td>7.324248e-18</td>\n",
       "      <td>-2.550630e-17</td>\n",
       "      <td>-1.933254e-17</td>\n",
       "      <td>-1.252276e-19</td>\n",
       "      <td>7.429748e-17</td>\n",
       "      <td>5.198638e-18</td>\n",
       "    </tr>\n",
       "    <tr>\n",
       "      <th>std</th>\n",
       "      <td>1.000001e+00</td>\n",
       "      <td>1.000001e+00</td>\n",
       "      <td>1.000001e+00</td>\n",
       "      <td>1.000001e+00</td>\n",
       "      <td>1.000001e+00</td>\n",
       "      <td>1.000001e+00</td>\n",
       "      <td>1.000001e+00</td>\n",
       "      <td>1.000001e+00</td>\n",
       "      <td>1.000001e+00</td>\n",
       "    </tr>\n",
       "    <tr>\n",
       "      <th>min</th>\n",
       "      <td>-8.281579e-02</td>\n",
       "      <td>-6.100990e-01</td>\n",
       "      <td>-7.822056e-02</td>\n",
       "      <td>-1.598424e-01</td>\n",
       "      <td>-1.960144e-01</td>\n",
       "      <td>-1.555914e-01</td>\n",
       "      <td>-7.932469e-02</td>\n",
       "      <td>-4.385708e-01</td>\n",
       "      <td>-1.158349e-01</td>\n",
       "    </tr>\n",
       "    <tr>\n",
       "      <th>25%</th>\n",
       "      <td>-6.872477e-02</td>\n",
       "      <td>-4.216318e-01</td>\n",
       "      <td>-6.649418e-02</td>\n",
       "      <td>-1.598424e-01</td>\n",
       "      <td>-1.960144e-01</td>\n",
       "      <td>-1.555914e-01</td>\n",
       "      <td>-7.290026e-02</td>\n",
       "      <td>-4.385708e-01</td>\n",
       "      <td>-1.158349e-01</td>\n",
       "    </tr>\n",
       "    <tr>\n",
       "      <th>50%</th>\n",
       "      <td>-4.683871e-02</td>\n",
       "      <td>-2.182857e-01</td>\n",
       "      <td>-4.499580e-02</td>\n",
       "      <td>-1.598424e-01</td>\n",
       "      <td>-1.960144e-01</td>\n",
       "      <td>-1.555914e-01</td>\n",
       "      <td>-5.362700e-02</td>\n",
       "      <td>-4.385708e-01</td>\n",
       "      <td>-1.158349e-01</td>\n",
       "    </tr>\n",
       "    <tr>\n",
       "      <th>75%</th>\n",
       "      <td>-2.167164e-03</td>\n",
       "      <td>1.090519e-01</td>\n",
       "      <td>-1.021860e-03</td>\n",
       "      <td>-1.598424e-01</td>\n",
       "      <td>-1.960144e-01</td>\n",
       "      <td>-8.202256e-02</td>\n",
       "      <td>-8.656046e-03</td>\n",
       "      <td>-4.385708e-01</td>\n",
       "      <td>-1.158349e-01</td>\n",
       "    </tr>\n",
       "    <tr>\n",
       "      <th>max</th>\n",
       "      <td>7.013749e+02</td>\n",
       "      <td>2.535775e+02</td>\n",
       "      <td>7.039065e+02</td>\n",
       "      <td>1.469031e+02</td>\n",
       "      <td>2.951445e+02</td>\n",
       "      <td>8.444860e+01</td>\n",
       "      <td>6.105748e+02</td>\n",
       "      <td>1.207662e+01</td>\n",
       "      <td>8.632976e+00</td>\n",
       "    </tr>\n",
       "  </tbody>\n",
       "</table>\n",
       "</div>"
      ],
      "text/plain": [
       "          num_words  num_unique_words  num_stopwords     num_links  \\\n",
       "count  5.248450e+05      5.248440e+05   5.248420e+05  5.248370e+05   \n",
       "mean   4.315284e-20      2.516069e-17   6.766572e-18  7.324248e-18   \n",
       "std    1.000001e+00      1.000001e+00   1.000001e+00  1.000001e+00   \n",
       "min   -8.281579e-02     -6.100990e-01  -7.822056e-02 -1.598424e-01   \n",
       "25%   -6.872477e-02     -4.216318e-01  -6.649418e-02 -1.598424e-01   \n",
       "50%   -4.683871e-02     -2.182857e-01  -4.499580e-02 -1.598424e-01   \n",
       "75%   -2.167164e-03      1.090519e-01  -1.021860e-03 -1.598424e-01   \n",
       "max    7.013749e+02      2.535775e+02   7.039065e+02  1.469031e+02   \n",
       "\n",
       "       num_unique_domains  num_email_addresses  num_spelling_errors  \\\n",
       "count        5.248360e+05         5.248430e+05         5.248460e+05   \n",
       "mean        -2.550630e-17        -1.933254e-17        -1.252276e-19   \n",
       "std          1.000001e+00         1.000001e+00         1.000001e+00   \n",
       "min         -1.960144e-01        -1.555914e-01        -7.932469e-02   \n",
       "25%         -1.960144e-01        -1.555914e-01        -7.290026e-02   \n",
       "50%         -1.960144e-01        -1.555914e-01        -5.362700e-02   \n",
       "75%         -1.960144e-01        -8.202256e-02        -8.656046e-03   \n",
       "max          2.951445e+02         8.444860e+01         6.105748e+02   \n",
       "\n",
       "       num_urgent_keywords         label  \n",
       "count         5.248440e+05  5.248460e+05  \n",
       "mean          7.429748e-17  5.198638e-18  \n",
       "std           1.000001e+00  1.000001e+00  \n",
       "min          -4.385708e-01 -1.158349e-01  \n",
       "25%          -4.385708e-01 -1.158349e-01  \n",
       "50%          -4.385708e-01 -1.158349e-01  \n",
       "75%          -4.385708e-01 -1.158349e-01  \n",
       "max           1.207662e+01  8.632976e+00  "
      ]
     },
     "execution_count": 28,
     "metadata": {},
     "output_type": "execute_result"
    }
   ],
   "source": [
    "emails.describe()"
   ]
  },
  {
   "cell_type": "code",
   "execution_count": 30,
   "id": "a1fc4cc2-6e46-4bea-8593-3275b8b5af23",
   "metadata": {},
   "outputs": [
    {
     "data": {
      "text/plain": [
       "num_words              0\n",
       "num_unique_words       0\n",
       "num_stopwords          0\n",
       "num_links              0\n",
       "num_unique_domains     0\n",
       "num_email_addresses    0\n",
       "num_spelling_errors    0\n",
       "num_urgent_keywords    0\n",
       "label                  0\n",
       "dtype: int64"
      ]
     },
     "execution_count": 30,
     "metadata": {},
     "output_type": "execute_result"
    }
   ],
   "source": [
    "emails.isna().sum()"
   ]
  },
  {
   "cell_type": "code",
   "execution_count": 26,
   "id": "d8ecd720-1277-463f-b6db-3af2e46df699",
   "metadata": {},
   "outputs": [],
   "source": [
    "numeric_cols = emails.select_dtypes(include=['int64', 'float64']).columns\n",
    "\n",
    "# Initialize the scaler\n",
    "scaler = StandardScaler()\n",
    "\n",
    "# Standardize the numeric columns\n",
    "emails[numeric_cols] = scaler.fit_transform(emails[numeric_cols])"
   ]
  },
  {
   "cell_type": "code",
   "execution_count": 29,
   "id": "abae5725-c16a-42dc-b273-39cef81dae0e",
   "metadata": {},
   "outputs": [],
   "source": [
    "emails.dropna(inplace=True)"
   ]
  },
  {
   "cell_type": "code",
   "execution_count": 38,
   "id": "3ba4eb02-b44f-47c3-9b67-9e1316c4d8fc",
   "metadata": {},
   "outputs": [],
   "source": [
    "X = emails.drop(columns='label')  # Features\n",
    "y = emails['label']  # Target"
   ]
  },
  {
   "cell_type": "code",
   "execution_count": 39,
   "id": "0c9f16b0-75fa-424d-9098-58bc22f2d98e",
   "metadata": {},
   "outputs": [
    {
     "name": "stdout",
     "output_type": "stream",
     "text": [
      "MSE: 0.9219840953549712\n",
      "R² Score: 0.022662301348041147\n"
     ]
    }
   ],
   "source": [
    "knn = KNeighborsRegressor(n_neighbors=3)\n",
    "knn.fit(X_train, y_train)\n",
    "y_pred = knn.predict(X_test)\n",
    "\n",
    "from sklearn.metrics import mean_squared_error, r2_score\n",
    "print(\"MSE:\", mean_squared_error(y_test, y_pred))\n",
    "print(\"R² Score:\", r2_score(y_test, y_pred))"
   ]
  },
  {
   "cell_type": "code",
   "execution_count": null,
   "id": "775dc2ae-eac5-4aaf-8993-96c3c9cbc55a",
   "metadata": {},
   "outputs": [],
   "source": []
  }
 ],
 "metadata": {
  "kernelspec": {
   "display_name": "Python 3 (ipykernel)",
   "language": "python",
   "name": "python3"
  },
  "language_info": {
   "codemirror_mode": {
    "name": "ipython",
    "version": 3
   },
   "file_extension": ".py",
   "mimetype": "text/x-python",
   "name": "python",
   "nbconvert_exporter": "python",
   "pygments_lexer": "ipython3",
   "version": "3.12.2"
  }
 },
 "nbformat": 4,
 "nbformat_minor": 5
}
