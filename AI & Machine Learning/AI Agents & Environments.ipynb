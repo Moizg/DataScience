{
 "cells": [
  {
   "cell_type": "markdown",
   "id": "921f9d79-3414-49be-9715-d68c602b3772",
   "metadata": {},
   "source": [
    "# Assignment 01\n",
    "## AI Agents & Environments"
   ]
  },
  {
   "cell_type": "markdown",
   "id": "5e87cdf4-6a1e-4d89-9d9e-abc78c4675db",
   "metadata": {},
   "source": [
    "### Question 01"
   ]
  },
  {
   "cell_type": "markdown",
   "id": "f7329e75-e635-45e4-a388-426605147745",
   "metadata": {},
   "source": [
    "#### Code-task (a)"
   ]
  },
  {
   "cell_type": "code",
   "execution_count": 2,
   "id": "f89be645-dc87-43e5-b463-5e7460a7086a",
   "metadata": {},
   "outputs": [],
   "source": [
    "class AutonomousShip:\n",
    "    def __init__(self):\n",
    "        self.obstacle_detected = False\n",
    "        self.weather_conditions = \"Clear\"\n",
    "        self.current_speed = 10  # knots\n",
    "        self.direction = 0  # degrees (0 = North)\n",
    "\n",
    "    def perceive_environment(self, sensors):\n",
    "        # Updates agent's perception based on sensor inputs\n",
    "        self.obstacle_detected = sensors[\"obstacle\"]\n",
    "        self.weather_conditions = sensors[\"weather\"]\n",
    "    \n",
    "    def navigate(self):\n",
    "        # Makes real-time decisions based on sensor data\n",
    "        if self.obstacle_detected:\n",
    "            print(\"Obstacle detected! Changing course...\")\n",
    "            self.direction += 45  # Simple avoidance maneuver\n",
    "        elif self.weather_conditions == \"Stormy\":\n",
    "            print(\"Storm detected! Slowing down...\")\n",
    "            self.current_speed = max(5, self.current_speed - 5)\n",
    "        else:\n",
    "            print(\"No threats detected. Maintaining course.\")\n",
    "\n",
    "    def run(self, sensors):\n",
    "        # Main loop for ship's navigation\n",
    "        self.perceive_environment(sensors)\n",
    "        self.navigate()\n",
    "        print(f\"New direction: {self.direction} degrees, Speed: {self.current_speed} knots\")"
   ]
  },
  {
   "cell_type": "code",
   "execution_count": 3,
   "id": "137a8274-874e-419a-8b47-87cfe14a9d17",
   "metadata": {},
   "outputs": [
    {
     "name": "stdout",
     "output_type": "stream",
     "text": [
      "Obstacle detected! Changing course...\n",
      "New direction: 45 degrees, Speed: 10 knots\n"
     ]
    }
   ],
   "source": [
    "sensors_input = {\"obstacle\": True, \"weather\": \"Clear\"}\n",
    "ship = AutonomousShip()\n",
    "ship.run(sensors_input)"
   ]
  },
  {
   "cell_type": "markdown",
   "id": "df72ddb8-28e4-4548-8450-afef1f17b278",
   "metadata": {},
   "source": [
    "#### Code-task (b)"
   ]
  },
  {
   "cell_type": "code",
   "execution_count": 4,
   "id": "7d871d74-11a8-44cf-8fcd-b010e6e9de29",
   "metadata": {},
   "outputs": [],
   "source": [
    "def integrate_sensor_data(gps_data, radar_data, sonar_data, weather_data):\n",
    "    '''\n",
    "    Processes multiple data sources and determines the best navigation decision.\n",
    "    \n",
    "    Parameters:\n",
    "        gps_data (dict): {'latitude': float, 'longitude': float, 'speed': float}\n",
    "        radar_data (dict): {'obstacle_distance': float, 'obstacle_direction': int}\n",
    "        sonar_data (dict): {'depth': float, 'underwater_obstacle': bool}\n",
    "        weather_data (dict): {'wave_height': float, 'storm_warning': bool}\n",
    "\n",
    "    Returns:\n",
    "        str: Recommended navigation action.\n",
    "    '''\n",
    "    safety_thresholds = {\n",
    "        \"min_obstacle_distance\": 50,  # meters\n",
    "        \"min_depth\": 10,  # meters\n",
    "        \"max_wave_height\": 4,  # meters\n",
    "    }\n",
    "    \n",
    "    # Collision Avoidance (Highest Priority)\n",
    "    if radar_data[\"obstacle_distance\"] < safety_thresholds[\"min_obstacle_distance\"]:\n",
    "        return f\"Obstacle ahead! Change course {radar_data['obstacle_direction']} degrees.\"\n",
    "\n",
    "    # Underwater Hazard Avoidance\n",
    "    if sonar_data[\"underwater_obstacle\"] or sonar_data[\"depth\"] < safety_thresholds[\"min_depth\"]:\n",
    "        return \"Shallow water or underwater obstacle detected! Reduce speed and adjust course.\"\n",
    "\n",
    "    # Storm Avoidance\n",
    "    if weather_data[\"storm_warning\"] or weather_data[\"wave_height\"] > safety_thresholds[\"max_wave_height\"]:\n",
    "        return \"Storm warning! Adjust route to avoid bad weather.\"\n",
    "\n",
    "    # Normal Navigation\n",
    "    return \"All clear. Maintain current course and speed.\""
   ]
  },
  {
   "cell_type": "code",
   "execution_count": 5,
   "id": "4a5cc1db-f61c-453f-b8da-962c5c632224",
   "metadata": {},
   "outputs": [
    {
     "name": "stdout",
     "output_type": "stream",
     "text": [
      "Navigation Decision: Obstacle ahead! Change course 45 degrees.\n"
     ]
    }
   ],
   "source": [
    "gps_input = {\"latitude\": 37.7749, \"longitude\": -122.4194, \"speed\": 12}\n",
    "radar_input = {\"obstacle_distance\": 30, \"obstacle_direction\": 45}  # Close obstacle\n",
    "sonar_input = {\"depth\": 15, \"underwater_obstacle\": False}\n",
    "weather_input = {\"wave_height\": 3, \"storm_warning\": False}\n",
    "\n",
    "decision = integrate_sensor_data(gps_input, radar_input, sonar_input, weather_input)\n",
    "print(\"Navigation Decision:\", decision)"
   ]
  },
  {
   "cell_type": "markdown",
   "id": "3d3c5311-722e-40e3-8064-b797423f8564",
   "metadata": {},
   "source": [
    "#### Code-task (c)"
   ]
  },
  {
   "cell_type": "code",
   "execution_count": 6,
   "id": "fd397986-0a15-4161-8b39-85134971b1d4",
   "metadata": {},
   "outputs": [],
   "source": [
    "import socket\n",
    "import json\n",
    "import threading\n",
    "\n",
    "class AutoShip:\n",
    "    def __init__(self, name, ip, port):\n",
    "        self.name = name\n",
    "        self.ip = ip\n",
    "        self.port = port\n",
    "        self.position = {\"latitude\": 37.7749, \"longitude\": -122.4194, \"speed\": 12, \"heading\": 90}\n",
    "    \n",
    "    def send_position(self, target_ip, target_port):\n",
    "        \"\"\" Sends position data to another ship \"\"\"\n",
    "        data = json.dumps({\"ship_name\": self.name, \"position\": self.position})\n",
    "        with socket.socket(socket.AF_INET, socket.SOCK_DGRAM) as s:\n",
    "            s.sendto(data.encode(), (target_ip, target_port))\n",
    "        print(f\"{self.name} sent position data to {target_ip}:{target_port}\")\n",
    "\n",
    "    def receive_position(self):\n",
    "        \"\"\" Listens for position updates from other ships \"\"\"\n",
    "        with socket.socket(socket.AF_INET, socket.SOCK_DGRAM) as s:\n",
    "            s.bind((self.ip, self.port))\n",
    "            print(f\"{self.name} listening on {self.ip}:{self.port} for incoming ship data...\")\n",
    "            while True:\n",
    "                data, addr = s.recvfrom(1024)\n",
    "                received_data = json.loads(data.decode())\n",
    "                print(f\"{self.name} received data from {received_data['ship_name']}: {received_data['position']}\")"
   ]
  },
  {
   "cell_type": "code",
   "execution_count": 7,
   "id": "1e73791d-9970-4159-b429-7db0978d5c57",
   "metadata": {},
   "outputs": [
    {
     "name": "stdout",
     "output_type": "stream",
     "text": [
      "Ship2 listening on 127.0.0.1:5002 for incoming ship data...\n",
      "Ship2 received data from Ship1: {'latitude': 37.7749, 'longitude': -122.4194, 'speed': 12, 'heading': 90}\n",
      "Ship1 sent position data to 127.0.0.1:5002\n"
     ]
    }
   ],
   "source": [
    "# Ship 1 sending data to Ship 2\n",
    "ship1 = AutoShip(\"Ship1\", \"127.0.0.1\", 5001)\n",
    "ship2 = AutoShip(\"Ship2\", \"127.0.0.1\", 5002)\n",
    "\n",
    "# Start a thread to receive position updates on Ship 2\n",
    "threading.Thread(target=ship2.receive_position, daemon=True).start()\n",
    "\n",
    "# Ship 1 sends position update to Ship 2\n",
    "ship1.send_position(\"127.0.0.1\", 5002)"
   ]
  },
  {
   "cell_type": "markdown",
   "id": "77ccc278-217b-4410-87bc-80a3da40dbcd",
   "metadata": {},
   "source": [
    "### Question 02"
   ]
  },
  {
   "cell_type": "markdown",
   "id": "56b0e432-b949-4370-a5b1-d9913062f154",
   "metadata": {},
   "source": [
    "#### Code-task (a)"
   ]
  },
  {
   "cell_type": "code",
   "execution_count": 8,
   "id": "db56b671-0675-417b-98fc-fd6db6b3a060",
   "metadata": {},
   "outputs": [],
   "source": [
    "import random\n",
    "\n",
    "class OceanicEnvironment:\n",
    "    def __init__(self):\n",
    "        self.visibility = \"Clear\"  # Options: Clear, Foggy, Stormy\n",
    "        self.weather = \"Calm\"  # Options: Calm, Windy, Stormy\n",
    "        self.obstacle_density = \"Low\"  # Options: Low, Medium, High\n",
    "\n",
    "    def update_conditions(self):\n",
    "        \"\"\"Randomly updates the environmental conditions.\"\"\"\n",
    "        self.visibility = random.choice([\"Clear\", \"Foggy\", \"Stormy\"])\n",
    "        self.weather = random.choice([\"Calm\", \"Windy\", \"Stormy\"])\n",
    "        self.obstacle_density = random.choice([\"Low\", \"Medium\", \"High\"])\n",
    "\n",
    "    def get_environment_state(self):\n",
    "        \"\"\"Returns the current state of the oceanic environment.\"\"\"\n",
    "        return {\n",
    "            \"visibility\": self.visibility,\n",
    "            \"weather\": self.weather,\n",
    "            \"obstacle_density\": self.obstacle_density,\n",
    "        }\n",
    "\n",
    "    def display_conditions(self):\n",
    "        \"\"\"Prints the current oceanic conditions.\"\"\"\n",
    "        print(f\"Visibility: {self.visibility}, Weather: {self.weather}, Obstacle Density: {self.obstacle_density}\")"
   ]
  },
  {
   "cell_type": "code",
   "execution_count": 9,
   "id": "eb775714-d9bf-4542-8657-6d5c218ec838",
   "metadata": {},
   "outputs": [
    {
     "name": "stdout",
     "output_type": "stream",
     "text": [
      "Visibility: Clear, Weather: Calm, Obstacle Density: Low\n",
      "Visibility: Foggy, Weather: Windy, Obstacle Density: Medium\n"
     ]
    }
   ],
   "source": [
    "ocean = OceanicEnvironment()\n",
    "ocean.display_conditions()  # Initial state\n",
    "\n",
    "# Simulating environmental changes\n",
    "ocean.update_conditions()\n",
    "ocean.display_conditions()"
   ]
  },
  {
   "cell_type": "markdown",
   "id": "84028d37-825d-4680-bb6b-8e8384e5d794",
   "metadata": {},
   "source": [
    "#### Code-task (b)"
   ]
  },
  {
   "cell_type": "code",
   "execution_count": 10,
   "id": "f2828d5b-5c14-4954-a72b-a79ba4d34caf",
   "metadata": {},
   "outputs": [],
   "source": [
    "def adaptive_navigation(environment, ship_status):\n",
    "    \"\"\"\n",
    "    Adjusts ship's course based on real-time environmental data.\n",
    "\n",
    "    Parameters:\n",
    "        environment (dict): {'visibility': str, 'weather': str, 'obstacle_density': str}\n",
    "        ship_status (dict): {'speed': float, 'heading': int}\n",
    "\n",
    "    Returns:\n",
    "        dict: Updated ship speed and heading.\n",
    "    \"\"\"\n",
    "    updated_status = ship_status.copy()\n",
    "\n",
    "    # Safety thresholds\n",
    "    safe_speeds = {\"Calm\": 20, \"Windy\": 15, \"Stormy\": 8}  # Knots\n",
    "    heading_adjustment = {\"Low\": 5, \"Medium\": 15, \"High\": 30}  # Degrees\n",
    "\n",
    "    # Adjust speed based on weather\n",
    "    updated_status[\"speed\"] = min(ship_status[\"speed\"], safe_speeds[environment[\"weather\"]])\n",
    "\n",
    "    # Adjust heading if obstacles are dense\n",
    "    if environment[\"obstacle_density\"] in heading_adjustment:\n",
    "        updated_status[\"heading\"] += heading_adjustment[environment[\"obstacle_density\"]]\n",
    "\n",
    "    # Special case: If visibility is bad, slow down further\n",
    "    if environment[\"visibility\"] in [\"Foggy\", \"Stormy\"]:\n",
    "        updated_status[\"speed\"] *= 0.8  # Reduce speed by 20%\n",
    "\n",
    "    return updated_status"
   ]
  },
  {
   "cell_type": "code",
   "execution_count": 11,
   "id": "f313de87-671d-4c6b-a61b-13e9d6531fbd",
   "metadata": {},
   "outputs": [
    {
     "name": "stdout",
     "output_type": "stream",
     "text": [
      "Updated Ship Status: {'speed': 6.4, 'heading': 120}\n"
     ]
    }
   ],
   "source": [
    "environment_data = {\"visibility\": \"Foggy\", \"weather\": \"Stormy\", \"obstacle_density\": \"High\"}\n",
    "ship_data = {\"speed\": 18, \"heading\": 90}  # Initial conditions\n",
    "\n",
    "new_ship_status = adaptive_navigation(environment_data, ship_data)\n",
    "print(\"Updated Ship Status:\", new_ship_status)"
   ]
  },
  {
   "cell_type": "markdown",
   "id": "0aafb7f6-f1e2-4304-a93e-2fa232711d93",
   "metadata": {},
   "source": [
    "#### Code-task (c)"
   ]
  },
  {
   "cell_type": "code",
   "execution_count": 12,
   "id": "530f68ec-0400-4600-8c40-0827bee81baf",
   "metadata": {},
   "outputs": [],
   "source": [
    "def safe_navigation(environment, traffic_density, obstacle_distance, current_speed, current_heading):\n",
    "    \"\"\"\n",
    "    Determines the safest navigation decision based on environmental conditions.\n",
    "\n",
    "    Parameters:\n",
    "        environment (dict): {'visibility': str, 'weather': str}\n",
    "        traffic_density (str): 'Low', 'Medium', 'High'\n",
    "        obstacle_distance (float): Distance to the nearest obstacle (in meters)\n",
    "        current_speed (float): Ship's current speed (knots)\n",
    "        current_heading (int): Ship's current heading (degrees)\n",
    "\n",
    "    Returns:\n",
    "        dict: Updated navigation parameters (new speed and heading).\n",
    "    \"\"\"\n",
    "    updated_speed = current_speed\n",
    "    updated_heading = current_heading\n",
    "\n",
    "    # Adjust speed based on weather conditions\n",
    "    if environment[\"weather\"] == \"Stormy\":\n",
    "        updated_speed *= 0.7  # Reduce speed by 30%\n",
    "    elif environment[\"weather\"] == \"Windy\":\n",
    "        updated_speed *= 0.9  # Reduce speed by 10%\n",
    "\n",
    "    # Adjust speed and heading based on traffic density\n",
    "    if traffic_density == \"High\":\n",
    "        updated_speed *= 0.8  # Reduce speed by 20%\n",
    "        updated_heading += 15  # Slight deviation to avoid congestion\n",
    "    elif traffic_density == \"Medium\":\n",
    "        updated_speed *= 0.9  # Reduce speed slightly\n",
    "\n",
    "    # Immediate action for obstacle avoidance\n",
    "    if obstacle_distance < 200:  # If an obstacle is within 200 meters\n",
    "        updated_speed *= 0.6  # Reduce speed significantly\n",
    "        updated_heading += 30  # Sharp turn to avoid collision\n",
    "\n",
    "    return {\"new_speed\": updated_speed, \"new_heading\": updated_heading}"
   ]
  },
  {
   "cell_type": "code",
   "execution_count": 13,
   "id": "d74ccd5d-5f3e-424f-9f41-1266f20ec0cd",
   "metadata": {},
   "outputs": [
    {
     "name": "stdout",
     "output_type": "stream",
     "text": [
      "Scenario 1 (High Traffic, Obstacle Near): {'new_speed': 6.048, 'new_heading': 135}\n",
      "Scenario 2 (Low Traffic, No Obstacle): {'new_speed': 12.6, 'new_heading': 90}\n"
     ]
    }
   ],
   "source": [
    "environment_data = {\"visibility\": \"Foggy\", \"weather\": \"Stormy\"}\n",
    "traffic_scenario_1 = safe_navigation(environment_data, \"High\", 150, 18, 90)  # High traffic, obstacle nearby\n",
    "traffic_scenario_2 = safe_navigation(environment_data, \"Low\", 500, 18, 90)   # Low traffic, no immediate obstacles\n",
    "\n",
    "print(\"Scenario 1 (High Traffic, Obstacle Near):\", traffic_scenario_1)\n",
    "print(\"Scenario 2 (Low Traffic, No Obstacle):\", traffic_scenario_2)"
   ]
  }
 ],
 "metadata": {
  "kernelspec": {
   "display_name": "Python 3 (ipykernel)",
   "language": "python",
   "name": "python3"
  },
  "language_info": {
   "codemirror_mode": {
    "name": "ipython",
    "version": 3
   },
   "file_extension": ".py",
   "mimetype": "text/x-python",
   "name": "python",
   "nbconvert_exporter": "python",
   "pygments_lexer": "ipython3",
   "version": "3.12.2"
  }
 },
 "nbformat": 4,
 "nbformat_minor": 5
}
