{
 "cells": [
  {
   "cell_type": "code",
   "execution_count": 1,
   "id": "e16f8967-8460-4cf5-a929-8708ab962126",
   "metadata": {},
   "outputs": [],
   "source": [
    "import numpy as np\n",
    "import pandas as pd\n",
    "import matplotlib.pyplot as plt\n",
    "import seaborn as sns"
   ]
  },
  {
   "cell_type": "code",
   "execution_count": 18,
   "id": "8c2d9a37-4538-46bd-b465-1452deddd07d",
   "metadata": {},
   "outputs": [],
   "source": [
    "cricket = pd.read_csv(r\"C:\\Users\\hp\\Downloads\\Cricket-all-teams-all-matches.csv\")"
   ]
  },
  {
   "cell_type": "code",
   "execution_count": 19,
   "id": "60fec0aa-7482-4c0e-abdd-3efb735b1d9b",
   "metadata": {},
   "outputs": [
    {
     "data": {
      "text/html": [
       "<div>\n",
       "<style scoped>\n",
       "    .dataframe tbody tr th:only-of-type {\n",
       "        vertical-align: middle;\n",
       "    }\n",
       "\n",
       "    .dataframe tbody tr th {\n",
       "        vertical-align: top;\n",
       "    }\n",
       "\n",
       "    .dataframe thead th {\n",
       "        text-align: right;\n",
       "    }\n",
       "</style>\n",
       "<table border=\"1\" class=\"dataframe\">\n",
       "  <thead>\n",
       "    <tr style=\"text-align: right;\">\n",
       "      <th></th>\n",
       "      <th>Team 1</th>\n",
       "      <th>Team 2</th>\n",
       "      <th>Winner</th>\n",
       "      <th>Margin</th>\n",
       "      <th>Ground</th>\n",
       "      <th>Match Date</th>\n",
       "      <th>Scorecard</th>\n",
       "      <th>Format</th>\n",
       "    </tr>\n",
       "  </thead>\n",
       "  <tbody>\n",
       "    <tr>\n",
       "      <th>0</th>\n",
       "      <td>India</td>\n",
       "      <td>Pakistan</td>\n",
       "      <td>drawn</td>\n",
       "      <td>NaN</td>\n",
       "      <td>Bengaluru</td>\n",
       "      <td>Dec 8-12, 2007</td>\n",
       "      <td>Test # 1852</td>\n",
       "      <td>Test</td>\n",
       "    </tr>\n",
       "    <tr>\n",
       "      <th>1</th>\n",
       "      <td>India</td>\n",
       "      <td>Pakistan</td>\n",
       "      <td>drawn</td>\n",
       "      <td>NaN</td>\n",
       "      <td>Eden Gardens</td>\n",
       "      <td>Nov 30-Dec 4, 2007</td>\n",
       "      <td>Test # 1850</td>\n",
       "      <td>Test</td>\n",
       "    </tr>\n",
       "    <tr>\n",
       "      <th>2</th>\n",
       "      <td>India</td>\n",
       "      <td>Pakistan</td>\n",
       "      <td>India</td>\n",
       "      <td>6 wickets</td>\n",
       "      <td>Delhi</td>\n",
       "      <td>Nov 22-26, 2007</td>\n",
       "      <td>Test # 1849</td>\n",
       "      <td>Test</td>\n",
       "    </tr>\n",
       "    <tr>\n",
       "      <th>3</th>\n",
       "      <td>Pakistan</td>\n",
       "      <td>India</td>\n",
       "      <td>Pakistan</td>\n",
       "      <td>341 runs</td>\n",
       "      <td>Karachi</td>\n",
       "      <td>Jan 29-Feb 1, 2006</td>\n",
       "      <td>Test # 1783</td>\n",
       "      <td>Test</td>\n",
       "    </tr>\n",
       "    <tr>\n",
       "      <th>4</th>\n",
       "      <td>Pakistan</td>\n",
       "      <td>India</td>\n",
       "      <td>drawn</td>\n",
       "      <td>NaN</td>\n",
       "      <td>Faisalabad</td>\n",
       "      <td>Jan 21-25, 2006</td>\n",
       "      <td>Test # 1782</td>\n",
       "      <td>Test</td>\n",
       "    </tr>\n",
       "    <tr>\n",
       "      <th>...</th>\n",
       "      <td>...</td>\n",
       "      <td>...</td>\n",
       "      <td>...</td>\n",
       "      <td>...</td>\n",
       "      <td>...</td>\n",
       "      <td>...</td>\n",
       "      <td>...</td>\n",
       "      <td>...</td>\n",
       "    </tr>\n",
       "    <tr>\n",
       "      <th>7788</th>\n",
       "      <td>Australia</td>\n",
       "      <td>ICC World XI</td>\n",
       "      <td>Australia</td>\n",
       "      <td>210 runs</td>\n",
       "      <td>Sydney</td>\n",
       "      <td>Oct 14-17, 2005</td>\n",
       "      <td>Test # 1768</td>\n",
       "      <td>Test</td>\n",
       "    </tr>\n",
       "    <tr>\n",
       "      <th>7789</th>\n",
       "      <td>Australia</td>\n",
       "      <td>ICC World XI</td>\n",
       "      <td>Australia</td>\n",
       "      <td>156 runs</td>\n",
       "      <td>Melbourne (Docklands)</td>\n",
       "      <td>Oct 9, 2005</td>\n",
       "      <td>ODI # 2284</td>\n",
       "      <td>ODI</td>\n",
       "    </tr>\n",
       "    <tr>\n",
       "      <th>7790</th>\n",
       "      <td>Australia</td>\n",
       "      <td>ICC World XI</td>\n",
       "      <td>Australia</td>\n",
       "      <td>55 runs</td>\n",
       "      <td>Melbourne (Docklands)</td>\n",
       "      <td>Oct 7, 2005</td>\n",
       "      <td>ODI # 2283</td>\n",
       "      <td>ODI</td>\n",
       "    </tr>\n",
       "    <tr>\n",
       "      <th>7791</th>\n",
       "      <td>Australia</td>\n",
       "      <td>ICC World XI</td>\n",
       "      <td>Australia</td>\n",
       "      <td>93 runs</td>\n",
       "      <td>Melbourne (Docklands)</td>\n",
       "      <td>Oct 5, 2005</td>\n",
       "      <td>ODI # 2282</td>\n",
       "      <td>ODI</td>\n",
       "    </tr>\n",
       "    <tr>\n",
       "      <th>7792</th>\n",
       "      <td>ICC World XI</td>\n",
       "      <td>West Indies</td>\n",
       "      <td>West Indies</td>\n",
       "      <td>72 runs</td>\n",
       "      <td>Lord's</td>\n",
       "      <td>May 31, 2018</td>\n",
       "      <td>T20I # 666</td>\n",
       "      <td>T20I</td>\n",
       "    </tr>\n",
       "  </tbody>\n",
       "</table>\n",
       "<p>7793 rows × 8 columns</p>\n",
       "</div>"
      ],
      "text/plain": [
       "            Team 1        Team 2       Winner     Margin  \\\n",
       "0            India      Pakistan        drawn        NaN   \n",
       "1            India      Pakistan        drawn        NaN   \n",
       "2            India      Pakistan        India  6 wickets   \n",
       "3         Pakistan         India     Pakistan   341 runs   \n",
       "4         Pakistan         India        drawn        NaN   \n",
       "...            ...           ...          ...        ...   \n",
       "7788     Australia  ICC World XI    Australia   210 runs   \n",
       "7789     Australia  ICC World XI    Australia   156 runs   \n",
       "7790     Australia  ICC World XI    Australia    55 runs   \n",
       "7791     Australia  ICC World XI    Australia    93 runs   \n",
       "7792  ICC World XI   West Indies  West Indies    72 runs   \n",
       "\n",
       "                     Ground          Match Date    Scorecard Format  \n",
       "0                 Bengaluru      Dec 8-12, 2007  Test # 1852  Test   \n",
       "1              Eden Gardens  Nov 30-Dec 4, 2007  Test # 1850  Test   \n",
       "2                     Delhi     Nov 22-26, 2007  Test # 1849  Test   \n",
       "3                   Karachi  Jan 29-Feb 1, 2006  Test # 1783  Test   \n",
       "4                Faisalabad     Jan 21-25, 2006  Test # 1782  Test   \n",
       "...                     ...                 ...          ...    ...  \n",
       "7788                 Sydney     Oct 14-17, 2005  Test # 1768  Test   \n",
       "7789  Melbourne (Docklands)         Oct 9, 2005   ODI # 2284   ODI   \n",
       "7790  Melbourne (Docklands)         Oct 7, 2005   ODI # 2283   ODI   \n",
       "7791  Melbourne (Docklands)         Oct 5, 2005   ODI # 2282   ODI   \n",
       "7792                 Lord's        May 31, 2018   T20I # 666  T20I   \n",
       "\n",
       "[7793 rows x 8 columns]"
      ]
     },
     "execution_count": 19,
     "metadata": {},
     "output_type": "execute_result"
    }
   ],
   "source": [
    "cricket"
   ]
  },
  {
   "cell_type": "code",
   "execution_count": 20,
   "id": "91fa8883-8a29-47d7-9077-c7af2e51eac8",
   "metadata": {},
   "outputs": [],
   "source": [
    "cricket['Match Year'] = cricket['Match Date'].str.extract(r'(\\d{4})').astype(int)"
   ]
  },
  {
   "cell_type": "code",
   "execution_count": 36,
   "id": "0a08aebc-5412-43f4-ae7a-b915f16ed138",
   "metadata": {},
   "outputs": [
    {
     "data": {
      "text/html": [
       "<div>\n",
       "<style scoped>\n",
       "    .dataframe tbody tr th:only-of-type {\n",
       "        vertical-align: middle;\n",
       "    }\n",
       "\n",
       "    .dataframe tbody tr th {\n",
       "        vertical-align: top;\n",
       "    }\n",
       "\n",
       "    .dataframe thead th {\n",
       "        text-align: right;\n",
       "    }\n",
       "</style>\n",
       "<table border=\"1\" class=\"dataframe\">\n",
       "  <thead>\n",
       "    <tr style=\"text-align: right;\">\n",
       "      <th></th>\n",
       "      <th>Team 1</th>\n",
       "      <th>Team 2</th>\n",
       "      <th>Winner</th>\n",
       "      <th>Margin</th>\n",
       "      <th>Ground</th>\n",
       "      <th>Match Date</th>\n",
       "      <th>Scorecard</th>\n",
       "      <th>Format</th>\n",
       "      <th>Match Year</th>\n",
       "      <th>Match Outcome</th>\n",
       "    </tr>\n",
       "  </thead>\n",
       "  <tbody>\n",
       "    <tr>\n",
       "      <th>0</th>\n",
       "      <td>India</td>\n",
       "      <td>Pakistan</td>\n",
       "      <td>drawn</td>\n",
       "      <td>NaN</td>\n",
       "      <td>Bengaluru</td>\n",
       "      <td>Dec 8-12, 2007</td>\n",
       "      <td>Test # 1852</td>\n",
       "      <td>Test</td>\n",
       "      <td>2007</td>\n",
       "      <td>Draw</td>\n",
       "    </tr>\n",
       "    <tr>\n",
       "      <th>1</th>\n",
       "      <td>India</td>\n",
       "      <td>Pakistan</td>\n",
       "      <td>drawn</td>\n",
       "      <td>NaN</td>\n",
       "      <td>Eden Gardens</td>\n",
       "      <td>Nov 30-Dec 4, 2007</td>\n",
       "      <td>Test # 1850</td>\n",
       "      <td>Test</td>\n",
       "      <td>2007</td>\n",
       "      <td>Draw</td>\n",
       "    </tr>\n",
       "    <tr>\n",
       "      <th>2</th>\n",
       "      <td>India</td>\n",
       "      <td>Pakistan</td>\n",
       "      <td>India</td>\n",
       "      <td>6 wickets</td>\n",
       "      <td>Delhi</td>\n",
       "      <td>Nov 22-26, 2007</td>\n",
       "      <td>Test # 1849</td>\n",
       "      <td>Test</td>\n",
       "      <td>2007</td>\n",
       "      <td>Team 1</td>\n",
       "    </tr>\n",
       "    <tr>\n",
       "      <th>3</th>\n",
       "      <td>Pakistan</td>\n",
       "      <td>India</td>\n",
       "      <td>Pakistan</td>\n",
       "      <td>341 runs</td>\n",
       "      <td>Karachi</td>\n",
       "      <td>Jan 29-Feb 1, 2006</td>\n",
       "      <td>Test # 1783</td>\n",
       "      <td>Test</td>\n",
       "      <td>2006</td>\n",
       "      <td>Team 1</td>\n",
       "    </tr>\n",
       "    <tr>\n",
       "      <th>4</th>\n",
       "      <td>Pakistan</td>\n",
       "      <td>India</td>\n",
       "      <td>drawn</td>\n",
       "      <td>NaN</td>\n",
       "      <td>Faisalabad</td>\n",
       "      <td>Jan 21-25, 2006</td>\n",
       "      <td>Test # 1782</td>\n",
       "      <td>Test</td>\n",
       "      <td>2006</td>\n",
       "      <td>Draw</td>\n",
       "    </tr>\n",
       "    <tr>\n",
       "      <th>...</th>\n",
       "      <td>...</td>\n",
       "      <td>...</td>\n",
       "      <td>...</td>\n",
       "      <td>...</td>\n",
       "      <td>...</td>\n",
       "      <td>...</td>\n",
       "      <td>...</td>\n",
       "      <td>...</td>\n",
       "      <td>...</td>\n",
       "      <td>...</td>\n",
       "    </tr>\n",
       "    <tr>\n",
       "      <th>7788</th>\n",
       "      <td>Australia</td>\n",
       "      <td>ICC World XI</td>\n",
       "      <td>Australia</td>\n",
       "      <td>210 runs</td>\n",
       "      <td>Sydney</td>\n",
       "      <td>Oct 14-17, 2005</td>\n",
       "      <td>Test # 1768</td>\n",
       "      <td>Test</td>\n",
       "      <td>2005</td>\n",
       "      <td>Team 1</td>\n",
       "    </tr>\n",
       "    <tr>\n",
       "      <th>7789</th>\n",
       "      <td>Australia</td>\n",
       "      <td>ICC World XI</td>\n",
       "      <td>Australia</td>\n",
       "      <td>156 runs</td>\n",
       "      <td>Melbourne (Docklands)</td>\n",
       "      <td>Oct 9, 2005</td>\n",
       "      <td>ODI # 2284</td>\n",
       "      <td>ODI</td>\n",
       "      <td>2005</td>\n",
       "      <td>Team 1</td>\n",
       "    </tr>\n",
       "    <tr>\n",
       "      <th>7790</th>\n",
       "      <td>Australia</td>\n",
       "      <td>ICC World XI</td>\n",
       "      <td>Australia</td>\n",
       "      <td>55 runs</td>\n",
       "      <td>Melbourne (Docklands)</td>\n",
       "      <td>Oct 7, 2005</td>\n",
       "      <td>ODI # 2283</td>\n",
       "      <td>ODI</td>\n",
       "      <td>2005</td>\n",
       "      <td>Team 1</td>\n",
       "    </tr>\n",
       "    <tr>\n",
       "      <th>7791</th>\n",
       "      <td>Australia</td>\n",
       "      <td>ICC World XI</td>\n",
       "      <td>Australia</td>\n",
       "      <td>93 runs</td>\n",
       "      <td>Melbourne (Docklands)</td>\n",
       "      <td>Oct 5, 2005</td>\n",
       "      <td>ODI # 2282</td>\n",
       "      <td>ODI</td>\n",
       "      <td>2005</td>\n",
       "      <td>Team 1</td>\n",
       "    </tr>\n",
       "    <tr>\n",
       "      <th>7792</th>\n",
       "      <td>ICC World XI</td>\n",
       "      <td>West Indies</td>\n",
       "      <td>West Indies</td>\n",
       "      <td>72 runs</td>\n",
       "      <td>Lord's</td>\n",
       "      <td>May 31, 2018</td>\n",
       "      <td>T20I # 666</td>\n",
       "      <td>T20I</td>\n",
       "      <td>2018</td>\n",
       "      <td>Team 2</td>\n",
       "    </tr>\n",
       "  </tbody>\n",
       "</table>\n",
       "<p>7793 rows × 10 columns</p>\n",
       "</div>"
      ],
      "text/plain": [
       "            Team 1        Team 2       Winner     Margin  \\\n",
       "0            India      Pakistan        drawn        NaN   \n",
       "1            India      Pakistan        drawn        NaN   \n",
       "2            India      Pakistan        India  6 wickets   \n",
       "3         Pakistan         India     Pakistan   341 runs   \n",
       "4         Pakistan         India        drawn        NaN   \n",
       "...            ...           ...          ...        ...   \n",
       "7788     Australia  ICC World XI    Australia   210 runs   \n",
       "7789     Australia  ICC World XI    Australia   156 runs   \n",
       "7790     Australia  ICC World XI    Australia    55 runs   \n",
       "7791     Australia  ICC World XI    Australia    93 runs   \n",
       "7792  ICC World XI   West Indies  West Indies    72 runs   \n",
       "\n",
       "                     Ground          Match Date    Scorecard Format  \\\n",
       "0                 Bengaluru      Dec 8-12, 2007  Test # 1852  Test    \n",
       "1              Eden Gardens  Nov 30-Dec 4, 2007  Test # 1850  Test    \n",
       "2                     Delhi     Nov 22-26, 2007  Test # 1849  Test    \n",
       "3                   Karachi  Jan 29-Feb 1, 2006  Test # 1783  Test    \n",
       "4                Faisalabad     Jan 21-25, 2006  Test # 1782  Test    \n",
       "...                     ...                 ...          ...    ...   \n",
       "7788                 Sydney     Oct 14-17, 2005  Test # 1768  Test    \n",
       "7789  Melbourne (Docklands)         Oct 9, 2005   ODI # 2284   ODI    \n",
       "7790  Melbourne (Docklands)         Oct 7, 2005   ODI # 2283   ODI    \n",
       "7791  Melbourne (Docklands)         Oct 5, 2005   ODI # 2282   ODI    \n",
       "7792                 Lord's        May 31, 2018   T20I # 666  T20I    \n",
       "\n",
       "      Match Year Match Outcome  \n",
       "0           2007          Draw  \n",
       "1           2007          Draw  \n",
       "2           2007        Team 1  \n",
       "3           2006        Team 1  \n",
       "4           2006          Draw  \n",
       "...          ...           ...  \n",
       "7788        2005        Team 1  \n",
       "7789        2005        Team 1  \n",
       "7790        2005        Team 1  \n",
       "7791        2005        Team 1  \n",
       "7792        2018        Team 2  \n",
       "\n",
       "[7793 rows x 10 columns]"
      ]
     },
     "execution_count": 36,
     "metadata": {},
     "output_type": "execute_result"
    }
   ],
   "source": [
    "cricket"
   ]
  },
  {
   "cell_type": "code",
   "execution_count": 37,
   "id": "5436a32b-372f-414b-a843-d2f02a1abd82",
   "metadata": {},
   "outputs": [
    {
     "data": {
      "text/plain": [
       "Team 1              0\n",
       "Team 2              0\n",
       "Winner              0\n",
       "Margin           1038\n",
       "Ground              0\n",
       "Match Date          0\n",
       "Scorecard           0\n",
       "Format              0\n",
       "Match Year          0\n",
       "Match Outcome       0\n",
       "dtype: int64"
      ]
     },
     "execution_count": 37,
     "metadata": {},
     "output_type": "execute_result"
    }
   ],
   "source": [
    "cricket.isna().sum()"
   ]
  },
  {
   "cell_type": "code",
   "execution_count": 29,
   "id": "6f9ddf05-c0c7-4993-af35-2a8a1bf0b4a5",
   "metadata": {},
   "outputs": [
    {
     "data": {
      "text/plain": [
       "array(['drawn', 'India', 'Pakistan', 'no result', 'tied', 'Afghanistan',\n",
       "       'Australia', 'Bangladesh', 'England', 'World-XI', 'Ireland',\n",
       "       'New Zealand', 'South Africa', 'Sri Lanka', 'West Indies',\n",
       "       'Zimbabwe'], dtype=object)"
      ]
     },
     "execution_count": 29,
     "metadata": {},
     "output_type": "execute_result"
    }
   ],
   "source": [
    "cricket['Winner'].unique()"
   ]
  },
  {
   "cell_type": "code",
   "execution_count": null,
   "id": "df6788e5-bf77-465a-8882-d2776ee335e0",
   "metadata": {},
   "outputs": [],
   "source": [
    "# This shows there are no unclear values in \"Winner\" column\n",
    "# The .isna() also shows there are no Null values in \"Winner\" column"
   ]
  },
  {
   "cell_type": "code",
   "execution_count": 35,
   "id": "d465de4e-e90e-40ee-bdfb-06db0144f693",
   "metadata": {},
   "outputs": [],
   "source": [
    "conditions = [\n",
    "    cricket['Winner'].str.lower().fillna('').str.strip().isin(['drawn', 'tied', 'no result']),\n",
    "    cricket['Winner'] == cricket['Team 1'],\n",
    "    cricket['Winner'] == cricket['Team 2']\n",
    "]\n",
    "\n",
    "choices = [\n",
    "    'Draw',\n",
    "    'Team 1',\n",
    "    'Team 2'\n",
    "]\n",
    "\n",
    "cricket['Match Outcome'] = np.select(conditions, choices, default='No result')"
   ]
  },
  {
   "cell_type": "markdown",
   "id": "cf13a5b0-f966-4b37-8459-7d5d2df25b1b",
   "metadata": {},
   "source": [
    "## Predicting Code"
   ]
  },
  {
   "cell_type": "markdown",
   "id": "db2e9341-90d8-4900-910a-92038f6a8ebe",
   "metadata": {},
   "source": [
    "#### KNN"
   ]
  },
  {
   "cell_type": "code",
   "execution_count": 50,
   "id": "df62134c-0379-4af4-b2fd-11aa390bb8bc",
   "metadata": {},
   "outputs": [],
   "source": [
    "from sklearn.model_selection import train_test_split\n",
    "from sklearn.preprocessing import RobustScaler\n",
    "from sklearn.neighbors import KNeighborsClassifier\n",
    "from sklearn.metrics import accuracy_score, classification_report, confusion_matrix\n",
    "\n",
    "X = cricket[['Team 1', 'Team 2', 'Ground', 'Format', 'Match Year']]\n",
    "X = pd.get_dummies(X, drop_first=True)  # Convert categorical to numerical\n",
    "y = cricket['Match Outcome']\n",
    "scaler = RobustScaler()\n",
    "X_scaled = scaler.fit_transform(X)"
   ]
  },
  {
   "cell_type": "code",
   "execution_count": 52,
   "id": "75a24d13-54c8-4bbf-99c1-7c628ae1b845",
   "metadata": {},
   "outputs": [
    {
     "name": "stdout",
     "output_type": "stream",
     "text": [
      "Accuracy: 0.5426555484284797\n",
      "\n",
      "Classification Report:\n",
      "               precision    recall  f1-score   support\n",
      "\n",
      "        Draw       0.36      0.33      0.34       206\n",
      "      Team 1       0.60      0.67      0.63       793\n",
      "      Team 2       0.51      0.44      0.47       560\n",
      "\n",
      "    accuracy                           0.54      1559\n",
      "   macro avg       0.49      0.48      0.48      1559\n",
      "weighted avg       0.54      0.54      0.54      1559\n",
      "\n",
      "\n",
      "Confusion Matrix:\n",
      " [[ 67  96  43]\n",
      " [ 70 535 188]\n",
      " [ 51 265 244]]\n"
     ]
    }
   ],
   "source": [
    "X_train, X_test, y_train, y_test = train_test_split(X, y, test_size=0.2, random_state=42)\n",
    "\n",
    "X_train_scaled = scaler.fit_transform(X_train)\n",
    "X_test_scaled = scaler.transform(X_test)\n",
    "\n",
    "knn = KNeighborsClassifier(n_neighbors=5)\n",
    "knn.fit(X_train_scaled, y_train)\n",
    "\n",
    "y_pred = knn.predict(X_test_scaled)\n",
    "\n",
    "print(\"Accuracy:\", accuracy_score(y_test, y_pred))\n",
    "print(\"\\nClassification Report:\\n\", classification_report(y_test, y_pred))\n",
    "print(\"\\nConfusion Matrix:\\n\", confusion_matrix(y_test, y_pred))"
   ]
  },
  {
   "cell_type": "markdown",
   "id": "b69a94e9-5c2a-43a1-8cfc-f929e5fcbc3c",
   "metadata": {},
   "source": [
    "## Perceptron"
   ]
  },
  {
   "cell_type": "code",
   "execution_count": 62,
   "id": "153baa28-372e-461c-a788-5e8a316b013f",
   "metadata": {},
   "outputs": [],
   "source": [
    "from sklearn.linear_model import Perceptron\n",
    "from sklearn.metrics import accuracy_score"
   ]
  },
  {
   "cell_type": "code",
   "execution_count": 61,
   "id": "6b0d0636-4194-47e0-bafa-cd22786c0a4c",
   "metadata": {},
   "outputs": [
    {
     "name": "stdout",
     "output_type": "stream",
     "text": [
      "Perceptron Evaluation:\n",
      "Accuracy: 0.5093008338678641\n",
      "\n",
      "Classification Report:\n",
      "               precision    recall  f1-score   support\n",
      "\n",
      "        Draw       0.13      0.11      0.12       215\n",
      "      Team 1       0.50      0.56      0.53       794\n",
      "      Team 2       0.34      0.30      0.32       550\n",
      "\n",
      "    accuracy                           0.41      1559\n",
      "   macro avg       0.32      0.32      0.32      1559\n",
      "weighted avg       0.39      0.41      0.40      1559\n",
      "\n"
     ]
    }
   ],
   "source": [
    "X_train, X_test, y_train, y_test = train_test_split(X, y, test_size=0.2, random_state=64)\n",
    "model = Perceptron()\n",
    "model.fit(X_train, y_train)\n",
    "y_pred_sklearn = model.predict(X_test)\n",
    "\n",
    "print(\"Perceptron Evaluation:\")\n",
    "print(\"Accuracy:\", accuracy_score(y_test, y_pred_sklearn))\n",
    "print(\"\\nClassification Report:\\n\", classification_report(y_test, y_pred))"
   ]
  },
  {
   "cell_type": "markdown",
   "id": "6080024f-143b-4dc1-89b7-2fe02f453874",
   "metadata": {},
   "source": [
    "## MLP"
   ]
  },
  {
   "cell_type": "code",
   "execution_count": 68,
   "id": "31a174d1-1eef-44a0-9058-2d23f7a0cc26",
   "metadata": {},
   "outputs": [],
   "source": [
    "from tensorflow import keras\n",
    "from tensorflow.keras import layers\n",
    "from sklearn.model_selection import train_test_split\n",
    "from sklearn.preprocessing import StandardScaler, LabelEncoder\n",
    "from sklearn.metrics import mean_squared_error"
   ]
  },
  {
   "cell_type": "code",
   "execution_count": 70,
   "id": "e1ff4d2a-2b6b-4203-b62c-17779de6829b",
   "metadata": {},
   "outputs": [
    {
     "name": "stdout",
     "output_type": "stream",
     "text": [
      "\u001b[1m49/49\u001b[0m \u001b[32m━━━━━━━━━━━━━━━━━━━━\u001b[0m\u001b[37m\u001b[0m \u001b[1m0s\u001b[0m 3ms/step \n",
      "1 layer (64) - MSE: 0.4777\n",
      "\u001b[1m49/49\u001b[0m \u001b[32m━━━━━━━━━━━━━━━━━━━━\u001b[0m\u001b[37m\u001b[0m \u001b[1m0s\u001b[0m 5ms/step  \n",
      "2 layers (64, 32) - MSE: 0.5499\n",
      "\u001b[1m49/49\u001b[0m \u001b[32m━━━━━━━━━━━━━━━━━━━━\u001b[0m\u001b[37m\u001b[0m \u001b[1m0s\u001b[0m 5ms/step  \n",
      "3 layers (128, 64, 32) - MSE: 0.5729\n",
      "\u001b[1m49/49\u001b[0m \u001b[32m━━━━━━━━━━━━━━━━━━━━\u001b[0m\u001b[37m\u001b[0m \u001b[1m0s\u001b[0m 4ms/step \n",
      "2 layers (100, 50) - MSE: 0.5737\n",
      "\u001b[1m49/49\u001b[0m \u001b[32m━━━━━━━━━━━━━━━━━━━━\u001b[0m\u001b[37m\u001b[0m \u001b[1m0s\u001b[0m 6ms/step  \n",
      "3 layers (50, 50, 50) - MSE: 0.5446\n"
     ]
    }
   ],
   "source": [
    "X = cricket[['Team 1', 'Team 2', 'Ground', 'Format', 'Match Year']]\n",
    "X = pd.get_dummies(X, drop_first=True)  # Convert categorical to numerical\n",
    "le = LabelEncoder()\n",
    "y = cricket['Match Outcome']\n",
    "y = le.fit_transform(y)\n",
    "\n",
    "X_train, X_test, y_train, y_test = train_test_split(X, y, test_size=0.2, random_state=42)\n",
    "\n",
    "X_train_scaled = scaler.fit_transform(X_train)\n",
    "X_test_scaled = scaler.transform(X_test)\n",
    "\n",
    "architectures = {\n",
    "    \"1 layer (64)\": [64],\n",
    "    \"2 layers (64, 32)\": [64, 32],\n",
    "    \"3 layers (128, 64, 32)\": [128, 64, 32],\n",
    "    \"2 layers (100, 50)\": [100, 50],\n",
    "    \"3 layers (50, 50, 50)\": [50, 50, 50]\n",
    "}\n",
    "\n",
    "mse_results = {}\n",
    "\n",
    "# Train and evaluate each architecture\n",
    "for name, layers_config in architectures.items():\n",
    "    model = keras.Sequential()\n",
    "    model.add(layers.Input(shape=(X_train.shape[1],)))\n",
    "    \n",
    "    # Add hidden layers\n",
    "    for units in layers_config:\n",
    "        model.add(layers.Dense(units, activation='relu'))\n",
    "    \n",
    "    # Output layer\n",
    "    model.add(layers.Dense(1))  # Regression output\n",
    "    \n",
    "    # Compile\n",
    "    model.compile(optimizer='adam', loss='mse')\n",
    "    \n",
    "    # Train\n",
    "    model.fit(X_train_scaled, y_train, epochs=100, batch_size=16, verbose=0)\n",
    "    \n",
    "    # Predict and evaluate\n",
    "    y_pred = model.predict(X_test_scaled)\n",
    "    mse = mean_squared_error(y_test, y_pred)\n",
    "    mse_results[name] = mse\n",
    "    print(f\"{name} - MSE: {mse:.4f}\")"
   ]
  },
  {
   "cell_type": "markdown",
   "id": "e6628a5e-c1a8-4bc3-a35b-0835d48c76b4",
   "metadata": {},
   "source": [
    "## Visualizations"
   ]
  },
  {
   "cell_type": "code",
   "execution_count": 71,
   "id": "7f17bff1-4272-4748-bd0a-5c1f7920c4f8",
   "metadata": {},
   "outputs": [
    {
     "data": {
      "image/png": "[encoded data removed]",
      "text/plain": [
       "<Figure size 800x500 with 1 Axes>"
      ]
     },
     "metadata": {},
     "output_type": "display_data"
    }
   ],
   "source": [
    "format_counts = cricket['Format'].value_counts()\n",
    "\n",
    "# Plot the bar chart\n",
    "plt.figure(figsize=(8, 5))\n",
    "format_counts.plot(kind='bar', color='skyblue', edgecolor='black')\n",
    "plt.title('Number of Matches per Format')\n",
    "plt.xlabel('Format')\n",
    "plt.ylabel('Number of Matches')\n",
    "plt.xticks(rotation=45)\n",
    "plt.tight_layout()\n",
    "plt.show()"
   ]
  },
  {
   "cell_type": "code",
   "execution_count": 72,
   "id": "bc812e0f-aef3-4dcf-947c-1419a60425fc",
   "metadata": {},
   "outputs": [
    {
     "data": {
      "image/png": "[encoded data removed]",
      "text/plain": [
       "<Figure size 800x800 with 1 Axes>"
      ]
     },
     "metadata": {},
     "output_type": "display_data"
    }
   ],
   "source": [
    "plt.figure(figsize=(8, 8))\n",
    "cricket['Match Outcome'].value_counts().plot(\n",
    "    kind='pie', \n",
    "    autopct='%1.1f%%', \n",
    "    startangle=140, \n",
    "    shadow=True, \n",
    "    wedgeprops={'edgecolor': 'black'}\n",
    ")\n",
    "plt.title('Match Outcomes')\n",
    "plt.ylabel('')  # Hide default y-label for pie\n",
    "plt.tight_layout()\n",
    "plt.show()"
   ]
  },
  {
   "cell_type": "code",
   "execution_count": 73,
   "id": "1aca4907-aaa6-451e-b2f5-1e5c979ee620",
   "metadata": {},
   "outputs": [
    {
     "data": {
      "image/png": "[encoded data removed]",
      "text/plain": [
       "<Figure size 1000x600 with 1 Axes>"
      ]
     },
     "metadata": {},
     "output_type": "display_data"
    }
   ],
   "source": [
    "matches_per_year = cricket['Match Year'].value_counts().sort_index()\n",
    "\n",
    "plt.figure(figsize=(10, 6))\n",
    "plt.plot(matches_per_year.index, matches_per_year.values, marker='o', linestyle='-', color='blue')\n",
    "plt.title('Number of Matches Played Per Year')\n",
    "plt.xlabel('Year')\n",
    "plt.ylabel('Number of Matches')\n",
    "plt.grid(True)\n",
    "plt.tight_layout()\n",
    "plt.show()"
   ]
  },
  {
   "cell_type": "code",
   "execution_count": 75,
   "id": "b352e3d7-4417-4f8b-a58a-66200c12de83",
   "metadata": {},
   "outputs": [
    {
     "name": "stdout",
     "output_type": "stream",
     "text": [
      "KNN Accuracy: 0.5427\n",
      "MLP Accuracy: 0.5555\n",
      "Perceptron Accuracy: 0.5042\n"
     ]
    },
    {
     "name": "stderr",
     "output_type": "stream",
     "text": [
      "C:\\Python312\\Lib\\site-packages\\sklearn\\neural_network\\_multilayer_perceptron.py:691: ConvergenceWarning: Stochastic Optimizer: Maximum iterations (300) reached and the optimization hasn't converged yet.\n",
      "  warnings.warn(\n"
     ]
    }
   ],
   "source": [
    "from sklearn.neural_network import MLPClassifier\n",
    "models = {\n",
    "    \"KNN\": KNeighborsClassifier(),\n",
    "    \"MLP\": MLPClassifier(hidden_layer_sizes=(100,), max_iter=300, random_state=42),\n",
    "    \"Perceptron\": Perceptron(max_iter=300, random_state=42)\n",
    "}\n",
    "\n",
    "# Evaluate again as i did not store accuracies first time\n",
    "accuracies = {}\n",
    "for name, model in models.items():\n",
    "    model.fit(X_train_scaled, y_train)\n",
    "    y_pred = model.predict(X_test_scaled)\n",
    "    acc = accuracy_score(y_test, y_pred)\n",
    "    accuracies[name] = acc\n",
    "    print(f\"{name} Accuracy: {acc:.4f}\")"
   ]
  },
  {
   "cell_type": "code",
   "execution_count": 76,
   "id": "47706267-7766-437e-9e42-c393e6b9a681",
   "metadata": {},
   "outputs": [
    {
     "data": {
      "image/png": "[encoded data removed]",
      "text/plain": [
       "<Figure size 700x500 with 1 Axes>"
      ]
     },
     "metadata": {},
     "output_type": "display_data"
    }
   ],
   "source": [
    "plt.figure(figsize=(7, 5))\n",
    "plt.bar(accuracies.keys(), accuracies.values(), color=['orange', 'green', 'blue'], edgecolor='black')\n",
    "plt.title('Model Accuracy Comparison')\n",
    "plt.xlabel('Model')\n",
    "plt.ylabel('Accuracy')\n",
    "plt.ylim(0, 1)\n",
    "plt.grid(axis='y', linestyle='--', alpha=0.7)\n",
    "plt.tight_layout()\n",
    "plt.show()"
   ]
  },
  {
   "cell_type": "markdown",
   "id": "b0f37425-e88b-4b76-b526-de7b13ec8eb2",
   "metadata": {},
   "source": [
    "## A*"
   ]
  },
  {
   "cell_type": "code",
   "execution_count": 85,
   "id": "28a5bf13-1dc8-4ef0-b7df-cc390aa16d07",
   "metadata": {},
   "outputs": [],
   "source": [
    "def avg_opp_count(node, goal, pos=None):\n",
    "    node_opp = set(G.neighbors(node))\n",
    "    goal_opp = set(G.neighbors(goal))\n",
    "    \n",
    "    return 100 - (len(node_opp) + len(goal_opp)) / 2"
   ]
  },
  {
   "cell_type": "code",
   "execution_count": 86,
   "id": "6ef5d53c-3f01-474e-8561-3dd503b7230e",
   "metadata": {},
   "outputs": [],
   "source": [
    "def aStar(graph, start, goal, heuristic):\n",
    "    visited = set()\n",
    "    pri_queue = queue.PriorityQueue()  # Priority queue\n",
    "    pri_queue.put((0 + heuristic[start], [start]))  # Initial state: f = g + h = 0 + heuristic\n",
    "\n",
    "    while not pri_queue.empty():\n",
    "        f, current_path = pri_queue.get()\n",
    "        current_node = current_path[-1]\n",
    "\n",
    "        if current_node == goal:\n",
    "            return current_path  # Goal found\n",
    "\n",
    "        visited.add(current_node)\n",
    "\n",
    "        for neighbor in graph.neighbors(current_node):\n",
    "            if neighbor not in visited:\n",
    "                g = graph[current_node][neighbor]['weight']  # Cost from start to current node\n",
    "                new_path = current_path + [neighbor]\n",
    "                pri_queue.put((g + heuristic[neighbor], new_path))\n",
    "\n",
    "    return []"
   ]
  },
  {
   "cell_type": "code",
   "execution_count": 88,
   "id": "afc25cd2-3ab3-4cb5-8e96-29ee51d0b769",
   "metadata": {},
   "outputs": [],
   "source": [
    "import networkx as nx\n",
    "\n",
    "team_pairs = cricket.apply(lambda row: tuple(sorted([row['Team 1'], row['Team 2']])), axis=1)\n",
    "match_counts = team_pairs.value_counts().reset_index()\n",
    "match_counts.columns = ['Team Pair', 'Match Count']\n",
    "\n",
    "G = nx.Graph()\n",
    "for (team1, team2), count in zip(match_counts['Team Pair'], match_counts['Match Count']):\n",
    "    weight = max(1, 100 - count)  # avoid zero or negative weights\n",
    "    G.add_edge(team1, team2, weight=weight)"
   ]
  },
  {
   "cell_type": "code",
   "execution_count": 91,
   "id": "2282b5a7-d5a8-4368-9c94-52f2ccee6e7d",
   "metadata": {},
   "outputs": [
    {
     "name": "stdout",
     "output_type": "stream",
     "text": [
      "Enter team 1: \n"
     ]
    },
    {
     "name": "stdin",
     "output_type": "stream",
     "text": [
      "None India\n"
     ]
    },
    {
     "name": "stdout",
     "output_type": "stream",
     "text": [
      "Enter team 2: \n"
     ]
    },
    {
     "name": "stdin",
     "output_type": "stream",
     "text": [
      "None England\n"
     ]
    }
   ],
   "source": [
    "team1 = input(print(\"Enter team 1: \"))\n",
    "team2 = input(print(\"Enter team 2: \"))"
   ]
  },
  {
   "cell_type": "code",
   "execution_count": 92,
   "id": "2ff7c7b7-0f9b-41c9-b4d6-e322f84de43f",
   "metadata": {},
   "outputs": [
    {
     "name": "stdout",
     "output_type": "stream",
     "text": [
      "Path from India to England found: India -> Australia -> England\n"
     ]
    }
   ],
   "source": [
    "import math\n",
    "import queue\n",
    "start_node = team1\n",
    "goal_node = team2\n",
    "\n",
    "heuristic = {node: avg_opp_count(node, goal_node, pos={}) for node in G.nodes}\n",
    "\n",
    "path = aStar(G, start_node, goal_node, heuristic)\n",
    "\n",
    "if path:\n",
    "    print(\"Path from {} to {} found: {}\".format(start_node, goal_node, ' -> '.join(path)))\n",
    "else:\n",
    "    print(\"No path found from {} to {}\".format(start_node, goal_node))"
   ]
  }
 ],
 "metadata": {
  "kernelspec": {
   "display_name": "Python 3 (ipykernel)",
   "language": "python",
   "name": "python3"
  },
  "language_info": {
   "codemirror_mode": {
    "name": "ipython",
    "version": 3
   },
   "file_extension": ".py",
   "mimetype": "text/x-python",
   "name": "python",
   "nbconvert_exporter": "python",
   "pygments_lexer": "ipython3",
   "version": "3.12.2"
  }
 },
 "nbformat": 4,
 "nbformat_minor": 5
}
